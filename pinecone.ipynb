{
 "cells": [
  {
   "cell_type": "code",
   "execution_count": 37,
   "metadata": {},
   "outputs": [],
   "source": [
    "import pinecone\n",
    "import pypdf\n",
    "from langchain.document_loaders import PyPDFDirectoryLoader #load the directory with PDFs\n",
    "from langchain.text_splitter import RecursiveCharacterTextSplitter #to split the text into chunks\n",
    "from langchain_openai.embeddings import OpenAIEmbeddings  #to create embeddings\n",
    "from langchain.vectorstores import  Pinecone  as PVS #to store vectors in pinecone changed name due to namespace collision with pinecone\n",
    "from langchain_openai import OpenAI  #openAI model\n",
    "import os\n"
   ]
  },
  {
   "cell_type": "code",
   "execution_count": 29,
   "metadata": {},
   "outputs": [
    {
     "data": {
      "text/plain": [
       "True"
      ]
     },
     "execution_count": 29,
     "metadata": {},
     "output_type": "execute_result"
    }
   ],
   "source": [
    "from dotenv import load_dotenv\n",
    "load_dotenv()  #load environment variables"
   ]
  },
  {
   "cell_type": "code",
   "execution_count": 19,
   "metadata": {},
   "outputs": [],
   "source": [
    "def read_docs(dictionary):  #read all files in dictionary\n",
    "    load_documents=PyPDFDirectoryLoader(dictionary)\n",
    "    docs=load_documents.load()\n",
    "    return docs"
   ]
  },
  {
   "cell_type": "code",
   "execution_count": 20,
   "metadata": {},
   "outputs": [
    {
     "data": {
      "text/plain": [
       "1"
      ]
     },
     "execution_count": 20,
     "metadata": {},
     "output_type": "execute_result"
    }
   ],
   "source": [
    "docs=read_docs(\"documents/\")\n",
    "len(docs)             "
   ]
  },
  {
   "cell_type": "code",
   "execution_count": 21,
   "metadata": {},
   "outputs": [],
   "source": [
    "def chunk_data(docs, chunk_size, chunk_overlap):  #divide it into chunks\n",
    "    text_spitter=RecursiveCharacterTextSplitter(chunk_size=chunk_size, chunk_overlap=chunk_overlap)\n",
    "    docs=text_spitter.split_documents(docs)\n",
    "    return docs"
   ]
  },
  {
   "cell_type": "code",
   "execution_count": 22,
   "metadata": {},
   "outputs": [
    {
     "data": {
      "text/plain": [
       "5"
      ]
     },
     "execution_count": 22,
     "metadata": {},
     "output_type": "execute_result"
    }
   ],
   "source": [
    "docs=chunk_data(docs=docs, chunk_size=800, chunk_overlap=50)\n",
    "len(docs)"
   ]
  },
  {
   "cell_type": "code",
   "execution_count": 23,
   "metadata": {},
   "outputs": [
    {
     "data": {
      "text/plain": [
       "OpenAIEmbeddings(client=<openai.resources.embeddings.Embeddings object at 0x00000248E88B4FD0>, async_client=<openai.resources.embeddings.AsyncEmbeddings object at 0x00000248E85A9490>, model='text-embedding-ada-002', dimensions=None, deployment='text-embedding-ada-002', openai_api_version='', openai_api_base=None, openai_api_type='', openai_proxy='', embedding_ctx_length=8191, openai_api_key=SecretStr('**********'), openai_organization=None, allowed_special=None, disallowed_special=None, chunk_size=1000, max_retries=2, request_timeout=None, headers=None, tiktoken_enabled=True, tiktoken_model_name=None, show_progress_bar=False, model_kwargs={}, skip_empty=False, default_headers=None, default_query=None, retry_min_seconds=4, retry_max_seconds=20, http_client=None, http_async_client=None, check_embedding_ctx_length=True)"
      ]
     },
     "execution_count": 23,
     "metadata": {},
     "output_type": "execute_result"
    }
   ],
   "source": [
    "embeddings=OpenAIEmbeddings(api_key=os.environ['OPENAI_API_KEY']) #create embeddings\n",
    "embeddings"
   ]
  },
  {
   "cell_type": "code",
   "execution_count": 24,
   "metadata": {},
   "outputs": [
    {
     "data": {
      "text/plain": [
       "1536"
      ]
     },
     "execution_count": 24,
     "metadata": {},
     "output_type": "execute_result"
    }
   ],
   "source": [
    "vectors=embeddings.embed_query('Hello how are you')\n",
    "len(vectors)"
   ]
  },
  {
   "cell_type": "code",
   "execution_count": 31,
   "metadata": {},
   "outputs": [
    {
     "data": {
      "text/plain": [
       "'1314520f-f997-413e-86c3-37f633e34edb'"
      ]
     },
     "execution_count": 31,
     "metadata": {},
     "output_type": "execute_result"
    }
   ],
   "source": [
    "Pinecode_API_Key=os.environ['PINECONE_API_KEY']\n",
    "Pinecode_API_Key"
   ]
  },
  {
   "cell_type": "code",
   "execution_count": 33,
   "metadata": {},
   "outputs": [],
   "source": [
    "#connecting to Pinecone instance\n",
    "from pinecone import Pinecone\n",
    "pc = Pinecone(api_key=Pinecode_API_Key)\n",
    "from pinecone import ServerlessSpec\n",
    "cloud = os.environ.get('PINECONE_CLOUD') or 'aws'\n",
    "region = os.environ.get('PINECONE_REGION') or 'us-east-1'\n",
    "spec = ServerlessSpec(cloud=cloud, region=region)\n",
    "index_name = 'langchain'"
   ]
  },
  {
   "cell_type": "code",
   "execution_count": 38,
   "metadata": {},
   "outputs": [],
   "source": [
    "index=PVS.from_documents(docs, embeddings,index_name=index_name)"
   ]
  },
  {
   "cell_type": "code",
   "execution_count": 39,
   "metadata": {},
   "outputs": [],
   "source": [
    "def retrive_query(query, k=2):\n",
    "    matching_results=index.similarity_search(query, k=k)\n",
    "    return matching_results"
   ]
  },
  {
   "cell_type": "code",
   "execution_count": 43,
   "metadata": {},
   "outputs": [],
   "source": [
    "#create the chain and setup the LLm model\n",
    "from langchain.chains.question_answering import load_qa_chain\n",
    "from langchain import OpenAI\n",
    "llm=OpenAI(temperature=0.5)\n",
    "chain=load_qa_chain(llm, chain_type='stuff')"
   ]
  },
  {
   "cell_type": "code",
   "execution_count": 41,
   "metadata": {},
   "outputs": [],
   "source": [
    "def retrieve_ans(query):\n",
    "    doc_search=retrive_query(query)  #get the matching vectors\n",
    "    print(doc_search)\n",
    "    response=chain.run(input_documents=doc_search,question=query)  #search the ans to the query in those vectors\n",
    "    return response\n"
   ]
  },
  {
   "cell_type": "code",
   "execution_count": 44,
   "metadata": {},
   "outputs": [
    {
     "name": "stdout",
     "output_type": "stream",
     "text": [
      "[Document(page_content='PREMIUM RECEIPT\\nTax Invoice\\nReceipt No.: 1068910686 Receipt Date : 11-NOV-22\\nPersonal Details\\nUnique Invoice Number\\nApplication No.: 6122268480 Policy No.: 0530974760\\nPolicy Holder’s Name: SANDHYA DAMODAR SAWANT PAN No.: HAGPS4294M\\nE-mail: sandhyadsawant6@gmail.com Contact No.: 8208364449\\nPolicy Details\\nPlan Name: BAJAJ ALLIANZ LIFE ETOUCH\\nLife Insured: MRS SANDHYA DAMODAR SAWANT\\nSum Assured: 10000000 Policy Commencement Date: 11-OCT-22\\nPolicy Term: 40 Premium Payment Term: 40\\nPremium (W/O GST): 624 Premium Payment Frequency: 12\\nPremium Due Date From: 11-NOV-22 Premium Due Date To:\\nPremium Received (incl GST): 736 Next Due Date: 11-DEC-22\\nAmount in Words: Rupees Seven Hundred Thirty Six Only\\nAgent Code: 3WA0000009 Agent Name: POLICYBAZAAR INSURANCE BROKERS PVT LTD\\nTax Details', metadata={'page': 0.0, 'source': 'documents\\\\Premium Receipts.pdf'}), Document(page_content='reinstatement of policy, insurance cover shall resume from the date of reinstatement. In case of outstation cheque, NAV will be as per the unit price of the date of\\nrealization of the cheque.\\nFor eligibility under section 80C/80D of income Tax Act,1961. Please consult your tax advisor.\\nExperience convenience at your fingertips with Bajaj Allianz Life – Life Assist,  our comprehensive customer portal and mobile \\napplication to:\\nTo access app, \\nscan QR codeUpdate contact & \\nbank detailsCheck Fund\\nPerformanceSwitch Funds\\nPay Premium \\n& Top-upsDownload e-Statement \\n& e-Policy BondRegister for Autopay/\\n Auto-Debit\\nMudrank No.:  Premium Receipt is subject to realization of negotiable instrument / Bankers instruction. \\nThis is system generated receipt hence requires no signature.\\nGot questions?', metadata={'page': 0.0, 'source': 'documents\\\\Premium Receipts.pdf'})]\n",
      "\n",
      "The policy owner is SANDHYA DAMODAR SAWANT.\n"
     ]
    }
   ],
   "source": [
    "our_query = \"who is the policy owner?\"\n",
    "answer = retrieve_ans(our_query)\n",
    "print(answer)"
   ]
  }
 ],
 "metadata": {
  "kernelspec": {
   "display_name": "langpy",
   "language": "python",
   "name": "python3"
  },
  "language_info": {
   "codemirror_mode": {
    "name": "ipython",
    "version": 3
   },
   "file_extension": ".py",
   "mimetype": "text/x-python",
   "name": "python",
   "nbconvert_exporter": "python",
   "pygments_lexer": "ipython3",
   "version": "3.11.5"
  }
 },
 "nbformat": 4,
 "nbformat_minor": 2
}
