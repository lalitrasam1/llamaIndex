{
 "cells": [
  {
   "cell_type": "code",
   "execution_count": null,
   "metadata": {},
   "outputs": [
    {
     "data": {
      "text/plain": [
       "True"
      ]
     },
     "execution_count": 8,
     "metadata": {},
     "output_type": "execute_result"
    }
   ],
   "source": [
    "import os\n",
    "from dotenv import load_dotenv\n",
    "load_dotenv()"
   ]
  },
  {
   "cell_type": "code",
   "execution_count": null,
   "metadata": {},
   "outputs": [],
   "source": [
    "os.environ['OPENAI_API_KEY']=os.getenv(\"OPENAI_API_KEY\")"
   ]
  },
  {
   "cell_type": "code",
   "execution_count": 11,
   "metadata": {},
   "outputs": [],
   "source": [
    "from llama_index.core import VectorStoreIndex,SimpleDirectoryReader\n",
    "documents=SimpleDirectoryReader(\"data\").load_data()"
   ]
  },
  {
   "cell_type": "code",
   "execution_count": 12,
   "metadata": {},
   "outputs": [
    {
     "data": {
      "text/plain": [
       "[Document(id_='ee8e66f7-c5af-465a-820f-ed6922a824ea', embedding=None, metadata={'page_label': '1', 'file_name': 'Lalit Rasam CV.pdf', 'file_path': 'e:\\\\Study\\\\Machine learning\\\\GitCodes\\\\llamaIndex\\\\data\\\\Lalit Rasam CV.pdf', 'file_type': 'application/pdf', 'file_size': 142179, 'creation_date': '2024-11-22', 'last_modified_date': '2023-11-05'}, excluded_embed_metadata_keys=['file_name', 'file_type', 'file_size', 'creation_date', 'last_modified_date', 'last_accessed_date'], excluded_llm_metadata_keys=['file_name', 'file_type', 'file_size', 'creation_date', 'last_modified_date', 'last_accessed_date'], relationships={}, metadata_template='{key}: {value}', metadata_separator='\\n', text='UiPath Certified ReFramework Orchestrator Windows Automation Web Automation\\nMicrosoft Certified API Document Understanding UiPath AI Centre Email Automation Python\\nC#\\nGoogle sheet and Smartsheet Automation SMS, Dropbox and Zoom Integration UiPath Task Capture\\nAzure Logic App & Form recognizer UiPath Task Capture Machine Learning (basic) UiPath Test Suite\\nComputer Vision Agile Power Automate JIRA SQL Team management\\nRPA center of excellence member (COE). Serving as a Hexaware RPA Team lead.\\nLeveraging UiPath and the Agile methodology to design and implement complex IPA and RPA processes.\\ncoordinating the discovery process with the business teams/client and BA in order to assess, comprehend, design, and\\ndevelop the ideal RPA/IPA solution.\\nMentoring junior developers on technical matters such as automation queries.\\nMaintaining the UiPath orchestrator for the management of users, machines, assets, licenses, and robots.\\nCoordinating with the RPA team and business team in the case of a major incident/escalation in a production\\nenvironment.\\ndistributing and tracking the work completed by junior developers and setting priorities for it.\\nDeveloping POCs and integrating the newest technologies with UiPath, like Azure Form recognizer, and Azure Logic app.\\nProviding inputs and representing the RPA team in internal meetings with senior management at Hexaware.\\nParticipate in code review and performance-related code optimization.\\nEnvironment: Uipath, .Net, C#, SQL, Windows, Azure, MS Office, Agile, Jira, GIT, Power Automate.\\nKey Responsibilities:\\nNumber of Processes Developed by Team: 40+\\nNumber of Processes Developed as a individual contributor: 10+ \\nHEALTHCARE INFORMATICS\\nSenior RPA Developer\\nWorked in US Healthcare and Insurance. Utilized UiPath to implement six end-to-end robotic process automation (RPA)\\nprocesses in this organization, including Claim status, Eligibility, Dental, Downloader, Vonage, and EHR bots.\\nWorked on integrating API, Smartsheet, Dropbox, Google Sheets, SMS, and email with Uipath.\\nWorked with windows, web applications, and Citrix automation.\\nknowledge of staging and deploying automation solutions into test and production environments.\\nScheduled, deployed, and monitored Uipath bots via orchestrator.\\nUtilizing OCR, Computer Vision, AI Center, and Document Understanding for POC and Development Purposes Using\\nUipath.\\nDeveloped the Uipath workflows as per client requirements.\\nWorked on debugging RPA bots for fixing bugs and Production support.\\nAttend all scrum meetings and share inputs with the scrum master.\\nDone code review for junior developers.\\nEnvironment: Uipath, .Net, C#, SQL, Windows, MS Office, Agile, TFS\\nKey Responsibilities:\\nBots Developed: 7\\nMS Power platform\\nLalit RasamRPA Team Lead\\nAbout Me\\nProfessional Experience\\n I possess over 9 years of dedicated work experience as a seasoned RPA developer and team lead. In my\\ncurrent position, I am responsible for spearheading the design and development of RPA automation solutions\\nwhile also overseeing a team of highly motivated professionals. In addition to my extensive experience, I have\\nfurther strengthened my skill set by earning the Microsoft Power Platform Developer Associate certification.\\nSkills\\nMy Contact\\nrasamlalit1@gmail.com\\nPune +91 7021381046\\nHEXAWARE\\nSenior System Analyst(RPA)\\nSept 2021 – Present\\nPune\\nMarch 2020 – Aug 2021', mimetype='text/plain', start_char_idx=None, end_char_idx=None, metadata_seperator='\\n', text_template='{metadata_str}\\n\\n{content}'),\n",
       " Document(id_='a5fa9220-2b1a-494a-9c5d-9cde02dd7d98', embedding=None, metadata={'page_label': '2', 'file_name': 'Lalit Rasam CV.pdf', 'file_path': 'e:\\\\Study\\\\Machine learning\\\\GitCodes\\\\llamaIndex\\\\data\\\\Lalit Rasam CV.pdf', 'file_type': 'application/pdf', 'file_size': 142179, 'creation_date': '2024-11-22', 'last_modified_date': '2023-11-05'}, excluded_embed_metadata_keys=['file_name', 'file_type', 'file_size', 'creation_date', 'last_modified_date', 'last_accessed_date'], excluded_llm_metadata_keys=['file_name', 'file_type', 'file_size', 'creation_date', 'last_modified_date', 'last_accessed_date'], relationships={}, metadata_template='{key}: {value}', metadata_separator='\\n', text='Created three complete robotic process automation (RPA) systems using uiPath in this organization.\\nWorked with Business Teams to create PDD (Process Definition Document) and developed separate SDD (Solution\\nDesign Documents).\\nWorked with windows and web applications.\\nUsed UiPath Orchestrator for deployment, monitoring, and management of UiPath bots.\\nWorked on debugging RPA bots for fixing bugs and Production support.\\nEnvironment: Uipath, .Net, C#, SQL, Windows, MS Office, Agile, TFS\\nKey Responsibilities:\\nBots Developed: 6\\nWorked in the Operations team of one of the biggest PSU bank in India.\\nKey Responsibilities:\\nWorked for Reliance Jio infocomm HQ IP planning team.\\nKey Responsibilities:\\nQualification Board/University Year Percentage\\nB.E. (Electronics and\\nTelecommunication       \\nEngineering)\\nMumbai University 2010-14 66.25%\\nH.S.C. Maharashtra Board 2009-10 67.33%\\nS.S.C. Maharashtra Board 2007-08 85.07%\\nEducation Background\\nINFOSYS\\nSenior System Engineer\\nNov 2017 – Feb 2020\\nHCL COMNET\\nEngineer\\nMarch 2016 – Nov 2017\\nDHII HEALTH TECH PVT LTD\\nNetwork Engineer\\nJan 2015 – Feb 2016\\nPersonal Information\\nBirthDate: 20th may 1993\\nLanguages: English, Hindi, Marathi', mimetype='text/plain', start_char_idx=None, end_char_idx=None, metadata_seperator='\\n', text_template='{metadata_str}\\n\\n{content}')]"
      ]
     },
     "execution_count": 12,
     "metadata": {},
     "output_type": "execute_result"
    }
   ],
   "source": [
    "documents"
   ]
  },
  {
   "cell_type": "code",
   "execution_count": 13,
   "metadata": {},
   "outputs": [
    {
     "name": "stderr",
     "output_type": "stream",
     "text": [
      "e:\\Study\\Machine learning\\GitCodes\\llamaIndex\\llamaindex\\Lib\\site-packages\\tqdm\\auto.py:21: TqdmWarning: IProgress not found. Please update jupyter and ipywidgets. See https://ipywidgets.readthedocs.io/en/stable/user_install.html\n",
      "  from .autonotebook import tqdm as notebook_tqdm\n",
      "Parsing nodes: 100%|██████████| 2/2 [00:00<00:00, 417.05it/s]\n",
      "Generating embeddings: 100%|██████████| 2/2 [00:02<00:00,  1.16s/it]\n"
     ]
    }
   ],
   "source": [
    "index=VectorStoreIndex.from_documents(documents,show_progress=True)"
   ]
  },
  {
   "cell_type": "code",
   "execution_count": 14,
   "metadata": {},
   "outputs": [
    {
     "data": {
      "text/plain": [
       "<llama_index.core.indices.vector_store.base.VectorStoreIndex at 0x2a40da52310>"
      ]
     },
     "execution_count": 14,
     "metadata": {},
     "output_type": "execute_result"
    }
   ],
   "source": [
    "index"
   ]
  },
  {
   "cell_type": "code",
   "execution_count": 15,
   "metadata": {},
   "outputs": [],
   "source": [
    "query_engine=index.as_query_engine()"
   ]
  },
  {
   "cell_type": "code",
   "execution_count": 24,
   "metadata": {},
   "outputs": [],
   "source": [
    "from llama_index.core.retrievers import VectorIndexRetriever\n",
    "from llama_index.core.query_engine import RetrieverQueryEngine\n",
    "from llama_index.core.postprocessor import SimilarityPostprocessor\n",
    "\n",
    "retriver= VectorIndexRetriever(index=index, similarity_top_k=4)\n",
    "postprocessor=SimilarityPostprocessor(similarity_cutoff=0.20)\n",
    "\n",
    "query_engine = RetrieverQueryEngine(retriever=retriver, node_postprocessors=[postprocessor])"
   ]
  },
  {
   "cell_type": "code",
   "execution_count": 25,
   "metadata": {},
   "outputs": [],
   "source": [
    "response=query_engine.query(\"is he good match for RPA developer\")"
   ]
  },
  {
   "cell_type": "code",
   "execution_count": 26,
   "metadata": {},
   "outputs": [
    {
     "name": "stdout",
     "output_type": "stream",
     "text": [
      "Final Response: He is a good match for an RPA developer based on his\n",
      "extensive experience in designing and implementing RPA processes,\n",
      "mentoring junior developers, integrating various technologies with\n",
      "UiPath, developing POCs, and working with different automation tools\n",
      "and technologies.\n",
      "______________________________________________________________________\n",
      "Source Node 1/2\n",
      "Node ID: e7d99e6b-cf7b-47d7-9bf6-13b62603c4da\n",
      "Similarity: 0.8099530793223451\n",
      "Text: UiPath Certified ReFramework Orchestrator Windows Automation Web\n",
      "Automation Microsoft Certified API Document Understanding UiPath AI\n",
      "Centre Email Automation Python C# Google sheet and Smartsheet\n",
      "Automation SMS, Dropbox and Zoom Integration UiPath Task Capture Azure\n",
      "Logic App & Form recognizer UiPath Task Capture Machine Learning\n",
      "(basic) UiPath T...\n",
      "______________________________________________________________________\n",
      "Source Node 2/2\n",
      "Node ID: f5c13110-5b59-45e2-bbde-193ce30f5d31\n",
      "Similarity: 0.7986691611907233\n",
      "Text: Created three complete robotic process automation (RPA) systems\n",
      "using uiPath in this organization. Worked with Business Teams to\n",
      "create PDD (Process Definition Document) and developed separate SDD\n",
      "(Solution Design Documents). Worked with windows and web applications.\n",
      "Used UiPath Orchestrator for deployment, monitoring, and management of\n",
      "UiPath b...\n"
     ]
    }
   ],
   "source": [
    "from llama_index.core.response.pprint_utils import pprint_response\n",
    "pprint_response(response,show_source=True)"
   ]
  }
 ],
 "metadata": {
  "kernelspec": {
   "display_name": "llamaindex",
   "language": "python",
   "name": "python3"
  },
  "language_info": {
   "codemirror_mode": {
    "name": "ipython",
    "version": 3
   },
   "file_extension": ".py",
   "mimetype": "text/x-python",
   "name": "python",
   "nbconvert_exporter": "python",
   "pygments_lexer": "ipython3",
   "version": "3.11.5"
  }
 },
 "nbformat": 4,
 "nbformat_minor": 2
}
