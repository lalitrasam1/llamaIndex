{
 "cells": [
  {
   "cell_type": "code",
   "execution_count": 19,
   "metadata": {},
   "outputs": [
    {
     "data": {
      "text/plain": [
       "True"
      ]
     },
     "execution_count": 19,
     "metadata": {},
     "output_type": "execute_result"
    }
   ],
   "source": [
    "from dotenv import load_dotenv\n",
    "load_dotenv()"
   ]
  },
  {
   "cell_type": "code",
   "execution_count": 15,
   "metadata": {},
   "outputs": [],
   "source": [
    "import streamlit as st\n",
    "import os"
   ]
  },
  {
   "cell_type": "code",
   "execution_count": 3,
   "metadata": {},
   "outputs": [],
   "source": [
    "os.environ['OPENAI_API_KEY']=os.getenv(\"OPENAI_API_KEY\")"
   ]
  },
  {
   "cell_type": "code",
   "execution_count": 4,
   "metadata": {},
   "outputs": [],
   "source": [
    "from llama_index.core import VectorStoreIndex,SimpleDirectoryReader\n",
    "documents=SimpleDirectoryReader(\"data\").load_data()"
   ]
  },
  {
   "cell_type": "code",
   "execution_count": 5,
   "metadata": {},
   "outputs": [
    {
     "data": {
      "text/plain": [
       "[Document(id_='f59b66a0-6d7e-4f3f-8720-dedbf2a6e867', embedding=None, metadata={'page_label': '1', 'file_name': 'Lalit Rasam CV.pdf', 'file_path': 'e:\\\\Study\\\\Machine learning\\\\GitCodes\\\\llamaIndex\\\\data\\\\Lalit Rasam CV.pdf', 'file_type': 'application/pdf', 'file_size': 142179, 'creation_date': '2024-11-22', 'last_modified_date': '2023-11-05'}, excluded_embed_metadata_keys=['file_name', 'file_type', 'file_size', 'creation_date', 'last_modified_date', 'last_accessed_date'], excluded_llm_metadata_keys=['file_name', 'file_type', 'file_size', 'creation_date', 'last_modified_date', 'last_accessed_date'], relationships={}, metadata_template='{key}: {value}', metadata_separator='\\n', text='UiPath Certified ReFramework Orchestrator Windows Automation Web Automation\\nMicrosoft Certified API Document Understanding UiPath AI Centre Email Automation Python\\nC#\\nGoogle sheet and Smartsheet Automation SMS, Dropbox and Zoom Integration UiPath Task Capture\\nAzure Logic App & Form recognizer UiPath Task Capture Machine Learning (basic) UiPath Test Suite\\nComputer Vision Agile Power Automate JIRA SQL Team management\\nRPA center of excellence member (COE). Serving as a Hexaware RPA Team lead.\\nLeveraging UiPath and the Agile methodology to design and implement complex IPA and RPA processes.\\ncoordinating the discovery process with the business teams/client and BA in order to assess, comprehend, design, and\\ndevelop the ideal RPA/IPA solution.\\nMentoring junior developers on technical matters such as automation queries.\\nMaintaining the UiPath orchestrator for the management of users, machines, assets, licenses, and robots.\\nCoordinating with the RPA team and business team in the case of a major incident/escalation in a production\\nenvironment.\\ndistributing and tracking the work completed by junior developers and setting priorities for it.\\nDeveloping POCs and integrating the newest technologies with UiPath, like Azure Form recognizer, and Azure Logic app.\\nProviding inputs and representing the RPA team in internal meetings with senior management at Hexaware.\\nParticipate in code review and performance-related code optimization.\\nEnvironment: Uipath, .Net, C#, SQL, Windows, Azure, MS Office, Agile, Jira, GIT, Power Automate.\\nKey Responsibilities:\\nNumber of Processes Developed by Team: 40+\\nNumber of Processes Developed as a individual contributor: 10+ \\nHEALTHCARE INFORMATICS\\nSenior RPA Developer\\nWorked in US Healthcare and Insurance. Utilized UiPath to implement six end-to-end robotic process automation (RPA)\\nprocesses in this organization, including Claim status, Eligibility, Dental, Downloader, Vonage, and EHR bots.\\nWorked on integrating API, Smartsheet, Dropbox, Google Sheets, SMS, and email with Uipath.\\nWorked with windows, web applications, and Citrix automation.\\nknowledge of staging and deploying automation solutions into test and production environments.\\nScheduled, deployed, and monitored Uipath bots via orchestrator.\\nUtilizing OCR, Computer Vision, AI Center, and Document Understanding for POC and Development Purposes Using\\nUipath.\\nDeveloped the Uipath workflows as per client requirements.\\nWorked on debugging RPA bots for fixing bugs and Production support.\\nAttend all scrum meetings and share inputs with the scrum master.\\nDone code review for junior developers.\\nEnvironment: Uipath, .Net, C#, SQL, Windows, MS Office, Agile, TFS\\nKey Responsibilities:\\nBots Developed: 7\\nMS Power platform\\nLalit RasamRPA Team Lead\\nAbout Me\\nProfessional Experience\\n I possess over 9 years of dedicated work experience as a seasoned RPA developer and team lead. In my\\ncurrent position, I am responsible for spearheading the design and development of RPA automation solutions\\nwhile also overseeing a team of highly motivated professionals. In addition to my extensive experience, I have\\nfurther strengthened my skill set by earning the Microsoft Power Platform Developer Associate certification.\\nSkills\\nMy Contact\\nrasamlalit1@gmail.com\\nPune +91 7021381046\\nHEXAWARE\\nSenior System Analyst(RPA)\\nSept 2021 – Present\\nPune\\nMarch 2020 – Aug 2021', mimetype='text/plain', start_char_idx=None, end_char_idx=None, metadata_seperator='\\n', text_template='{metadata_str}\\n\\n{content}'),\n",
       " Document(id_='ffaa4f9d-9bc7-4202-93e3-a303d209e577', embedding=None, metadata={'page_label': '2', 'file_name': 'Lalit Rasam CV.pdf', 'file_path': 'e:\\\\Study\\\\Machine learning\\\\GitCodes\\\\llamaIndex\\\\data\\\\Lalit Rasam CV.pdf', 'file_type': 'application/pdf', 'file_size': 142179, 'creation_date': '2024-11-22', 'last_modified_date': '2023-11-05'}, excluded_embed_metadata_keys=['file_name', 'file_type', 'file_size', 'creation_date', 'last_modified_date', 'last_accessed_date'], excluded_llm_metadata_keys=['file_name', 'file_type', 'file_size', 'creation_date', 'last_modified_date', 'last_accessed_date'], relationships={}, metadata_template='{key}: {value}', metadata_separator='\\n', text='Created three complete robotic process automation (RPA) systems using uiPath in this organization.\\nWorked with Business Teams to create PDD (Process Definition Document) and developed separate SDD (Solution\\nDesign Documents).\\nWorked with windows and web applications.\\nUsed UiPath Orchestrator for deployment, monitoring, and management of UiPath bots.\\nWorked on debugging RPA bots for fixing bugs and Production support.\\nEnvironment: Uipath, .Net, C#, SQL, Windows, MS Office, Agile, TFS\\nKey Responsibilities:\\nBots Developed: 6\\nWorked in the Operations team of one of the biggest PSU bank in India.\\nKey Responsibilities:\\nWorked for Reliance Jio infocomm HQ IP planning team.\\nKey Responsibilities:\\nQualification Board/University Year Percentage\\nB.E. (Electronics and\\nTelecommunication       \\nEngineering)\\nMumbai University 2010-14 66.25%\\nH.S.C. Maharashtra Board 2009-10 67.33%\\nS.S.C. Maharashtra Board 2007-08 85.07%\\nEducation Background\\nINFOSYS\\nSenior System Engineer\\nNov 2017 – Feb 2020\\nHCL COMNET\\nEngineer\\nMarch 2016 – Nov 2017\\nDHII HEALTH TECH PVT LTD\\nNetwork Engineer\\nJan 2015 – Feb 2016\\nPersonal Information\\nBirthDate: 20th may 1993\\nLanguages: English, Hindi, Marathi', mimetype='text/plain', start_char_idx=None, end_char_idx=None, metadata_seperator='\\n', text_template='{metadata_str}\\n\\n{content}')]"
      ]
     },
     "execution_count": 5,
     "metadata": {},
     "output_type": "execute_result"
    }
   ],
   "source": [
    "documents"
   ]
  },
  {
   "cell_type": "code",
   "execution_count": 20,
   "metadata": {},
   "outputs": [
    {
     "data": {
      "text/plain": [
       "'pcsk_Kej7W_SdB3z9PBux1MH6WCJsyWDSZ2YnzAbCA7WdEJu6KHP6iY3jEypeeoQxoE5R8Z4sT'"
      ]
     },
     "execution_count": 20,
     "metadata": {},
     "output_type": "execute_result"
    }
   ],
   "source": [
    "Pinecode_API_Key=os.environ['PINECONE_API_KEY']\n",
    "Pinecode_API_Key\n"
   ]
  },
  {
   "cell_type": "code",
   "execution_count": 21,
   "metadata": {},
   "outputs": [],
   "source": [
    "from pinecone import Pinecone\n",
    "pc = Pinecone(api_key=Pinecode_API_Key)\n",
    "from pinecone import ServerlessSpec\n",
    "cloud = os.environ.get('PINECONE_CLOUD') or 'aws'\n",
    "region = os.environ.get('PINECONE_REGION') or 'us-east-1'\n",
    "spec = ServerlessSpec(cloud=cloud, region=region)\n",
    "index_name = 'llama'"
   ]
  },
  {
   "cell_type": "code",
   "execution_count": 23,
   "metadata": {},
   "outputs": [],
   "source": [
    "import pinecone\n",
    "pinecone_index = pc.Index(\"llama\")"
   ]
  },
  {
   "cell_type": "code",
   "execution_count": 24,
   "metadata": {},
   "outputs": [],
   "source": [
    "from llama_index.vector_stores.pinecone import PineconeVectorStore\n",
    "vector_store = PineconeVectorStore(pinecone_index=pinecone_index)"
   ]
  },
  {
   "cell_type": "code",
   "execution_count": 26,
   "metadata": {},
   "outputs": [
    {
     "name": "stderr",
     "output_type": "stream",
     "text": [
      "Parsing nodes: 100%|██████████| 2/2 [00:00<00:00, 90.66it/s]"
     ]
    },
    {
     "name": "stderr",
     "output_type": "stream",
     "text": [
      "\n",
      "Generating embeddings: 100%|██████████| 2/2 [00:01<00:00,  1.30it/s]\n",
      "Upserted vectors: 100%|██████████| 2/2 [00:02<00:00,  1.31s/it]\n"
     ]
    }
   ],
   "source": [
    "from llama_index.core import StorageContext\n",
    "storage_context = StorageContext.from_defaults(vector_store=vector_store) # Save the index to Pinecone \n",
    "index=VectorStoreIndex.from_documents(documents,show_progress=True, storage_context=storage_context)"
   ]
  },
  {
   "cell_type": "code",
   "execution_count": 27,
   "metadata": {},
   "outputs": [],
   "source": [
    "query_engine=index.as_query_engine()"
   ]
  },
  {
   "cell_type": "code",
   "execution_count": 39,
   "metadata": {},
   "outputs": [],
   "source": [
    "from llama_index.core.retrievers import VectorIndexRetriever\n",
    "from llama_index.core.query_engine import RetrieverQueryEngine\n",
    "from llama_index.core.postprocessor import SimilarityPostprocessor\n",
    "\n",
    "retriver= VectorIndexRetriever(index=index, similarity_top_k=4)\n",
    "postprocessor=SimilarityPostprocessor(similarity_cutoff=0.70)\n",
    "\n",
    "query_engine = RetrieverQueryEngine(retriever=retriver, node_postprocessors=[postprocessor])"
   ]
  },
  {
   "cell_type": "code",
   "execution_count": 40,
   "metadata": {},
   "outputs": [],
   "source": [
    "response=query_engine.query(\"what is the name of the person\")"
   ]
  },
  {
   "cell_type": "code",
   "execution_count": 41,
   "metadata": {},
   "outputs": [
    {
     "name": "stdout",
     "output_type": "stream",
     "text": [
      "Final Response: Empty Response\n"
     ]
    }
   ],
   "source": [
    "from llama_index.core.response.pprint_utils import pprint_response\n",
    "pprint_response(response,show_source=True)"
   ]
  }
 ],
 "metadata": {
  "kernelspec": {
   "display_name": "llamaindex",
   "language": "python",
   "name": "python3"
  },
  "language_info": {
   "codemirror_mode": {
    "name": "ipython",
    "version": 3
   },
   "file_extension": ".py",
   "mimetype": "text/x-python",
   "name": "python",
   "nbconvert_exporter": "python",
   "pygments_lexer": "ipython3",
   "version": "3.11.5"
  }
 },
 "nbformat": 4,
 "nbformat_minor": 2
}
